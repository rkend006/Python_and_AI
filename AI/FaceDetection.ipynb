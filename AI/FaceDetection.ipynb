{
 "cells": [
  {
   "cell_type": "markdown",
   "id": "a07a7586",
   "metadata": {},
   "source": [
    "# First we will need to import OpenCV and Sys\n",
    "Sys is going to be so we can use our webcam"
   ]
  },
  {
   "cell_type": "code",
   "execution_count": 1,
   "id": "ae90c82c",
   "metadata": {},
   "outputs": [],
   "source": [
    "import cv2\n",
    "import sys"
   ]
  },
  {
   "cell_type": "markdown",
   "id": "a1414c42",
   "metadata": {},
   "source": [
    "# Now we will start the cascading XML file"
   ]
  },
  {
   "cell_type": "code",
   "execution_count": 2,
   "id": "f5218a61",
   "metadata": {},
   "outputs": [],
   "source": [
    "# Set the path for the cascade and load it into the memory to be used by opencv\n",
    "cascPath = \"haarcascade_frontalface_default.xml\"\n",
    "faceCascade = cv2.CascadeClassifier(cascPath)\n",
    "\n",
    "# Opens a video file or a capturing device or an IP video stream for video capturing with API Preference.\n",
    "video_capture = cv2.VideoCapture(0)"
   ]
  },
  {
   "cell_type": "markdown",
   "id": "67bade1b",
   "metadata": {},
   "source": [
    "# This is where the camera turns on and the program waits for user termination"
   ]
  },
  {
   "cell_type": "code",
   "execution_count": 3,
   "id": "58b7e9fd",
   "metadata": {},
   "outputs": [
    {
     "name": "stdout",
     "output_type": "stream",
     "text": [
      "working2\n",
      "This will never print since the program is waiting to terminate, camera still on.\n"
     ]
    }
   ],
   "source": [
    "while True:\n",
    "    # Capture frame-by-frame\n",
    "    ret, frame = video_capture.read()\n",
    "\n",
    "    # Used to convert an image from one color space to another\n",
    "    gray = cv2.cvtColor(frame, cv2.COLOR_BGR2GRAY)\n",
    "\n",
    "    faces = faceCascade.detectMultiScale(\n",
    "        gray,\n",
    "        #  Parameter specifying how much the image size is reduced at each image scale.\n",
    "        scaleFactor=1.1,\n",
    "        \n",
    "        #  Parameter specifying how many neighbors each candidate rectangle should have to retain it.\n",
    "        minNeighbors=5,\n",
    "        \n",
    "        # Minimum possible object size. Objects smaller than that are ignored.\n",
    "        minSize=(30, 30),\n",
    "        \n",
    "        \n",
    "        # flags=cv2.CASCADE_SCALE_IMAGE\n",
    "    )\n",
    "\n",
    "    # Draw a rectangle around the faces.\n",
    "    for (x, y, w, h) in faces:\n",
    "        cv2.rectangle(frame, (x, y), (x+w, y+h), (0, 255, 0), 2)\n",
    "\n",
    "    # Display the resulting frame.\n",
    "    cv2.imshow('Video', frame)\n",
    "\n",
    "    # Stop the program with ctr 'q'.\n",
    "    if cv2.waitKey(1) & 0xFF == ord('q'):\n",
    "        break\n",
    "        \n",
    "# When everything is done, release the capture\n",
    "video_capture.release()\n",
    "cv2.destroyAllWindows()\n",
    "\n",
    "print('This will never print since the program is waiting to terminate, camera still on.')"
   ]
  },
  {
   "cell_type": "code",
   "execution_count": null,
   "id": "37e53ed8",
   "metadata": {},
   "outputs": [],
   "source": []
  }
 ],
 "metadata": {
  "kernelspec": {
   "display_name": "Python 3 (ipykernel)",
   "language": "python",
   "name": "python3"
  },
  "language_info": {
   "codemirror_mode": {
    "name": "ipython",
    "version": 3
   },
   "file_extension": ".py",
   "mimetype": "text/x-python",
   "name": "python",
   "nbconvert_exporter": "python",
   "pygments_lexer": "ipython3",
   "version": "3.9.7"
  }
 },
 "nbformat": 4,
 "nbformat_minor": 5
}
