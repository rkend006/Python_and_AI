{
 "cells": [
  {
   "cell_type": "markdown",
   "metadata": {
    "colab_type": "text",
    "id": "view-in-github"
   },
   "source": [
    "<a href=\"https://colab.research.google.com/github/rkend006/Python_and_AI/blob/main/Copy_of_Intro_to_Python.ipynb\" target=\"_parent\"><img src=\"https://colab.research.google.com/assets/colab-badge.svg\" alt=\"Open In Colab\"/></a>"
   ]
  },
  {
   "cell_type": "markdown",
   "metadata": {
    "id": "nZtvkLaHj5fA"
   },
   "source": [
    "# Intro to Python!\n",
    "Python is a very useful programming language especially to learn about machine learning with its simple and understandable syntax."
   ]
  },
  {
   "cell_type": "code",
   "execution_count": 1,
   "metadata": {
    "colab": {
     "base_uri": "https://localhost:8080/"
    },
    "id": "xyrKGcPcj3rY",
    "outputId": "0380e528-7c14-40d1-bd4e-45cc2116737d"
   },
   "outputs": [
    {
     "name": "stdout",
     "output_type": "stream",
     "text": [
      "My name is Alex and I am 19 years old\n"
     ]
    }
   ],
   "source": [
    "# There are a few basic data types that you'll see everywhere\n",
    "\n",
    "myName = \"Alex\" # strings\n",
    "age = 19 # integers\n",
    "pi = 3.14 # floats\n",
    "canDrinkAlcohol = False # booleans\n",
    "moneySaved = None # NoneType\n",
    "\n",
    "print(f\"My name is {myName} and I am {age} years old\")"
   ]
  },
  {
   "cell_type": "code",
   "execution_count": 2,
   "metadata": {
    "colab": {
     "base_uri": "https://localhost:8080/"
    },
    "id": "8Ya2iDhVlExw",
    "outputId": "f4e2e883-db45-4ccb-abcd-494517c9fb85"
   },
   "outputs": [
    {
     "name": "stdout",
     "output_type": "stream",
     "text": [
      "19 <class 'int'>\n",
      "3.14 <class 'float'>\n",
      "0.30000000000000004\n",
      "8\n",
      "4.0\n"
     ]
    }
   ],
   "source": [
    "# integers and floats are quite different from each other\n",
    "# integers are for whole numbers whereas floats are for numbers with decimals\n",
    "\n",
    "print(age, type(age))\n",
    "print(pi, type(pi))\n",
    "\n",
    "# be careful with floats, they can imprecise sometimes!\n",
    "print(0.1+0.1+0.1)\n",
    "\n",
    "print(2 ** 3)\n",
    "\n",
    "# instead of importing sqrt from the math library, we can do this\n",
    "print(16 ** (1/2))"
   ]
  },
  {
   "cell_type": "code",
   "execution_count": 3,
   "metadata": {
    "colab": {
     "base_uri": "https://localhost:8080/"
    },
    "id": "Tlgcy5R3lUxM",
    "outputId": "269f841c-bf71-4ec7-940c-d38d70d1dc92"
   },
   "outputs": [
    {
     "name": "stdout",
     "output_type": "stream",
     "text": [
      "My name is Alex\n",
      "My name is Alex\n",
      "My name is Alex\n",
      "\n",
      "First name: Alex\n",
      "Last name: Somwaru\n",
      "My first name is 4 characters long.\n"
     ]
    }
   ],
   "source": [
    "# strings are a data type that you'll see A LOT\n",
    "\n",
    "print(\"My name is \" + myName)\n",
    "print(\"My name is {0}\".format(myName))\n",
    "print(f\"My name is {myName}\\n\")\n",
    "\n",
    "# you can slice strings by giving the start and end positions\n",
    "\n",
    "myName = \"Alex Somwaru\"\n",
    "firstName = myName[0:4]\n",
    "lastName = myName[5:]\n",
    "firstNameLength = len(firstName)\n",
    "\n",
    "print(f\"First name: {firstName}\\nLast name: {lastName}\")\n",
    "print(\"My first name is \" + str(firstNameLength) + \" characters long.\")"
   ]
  },
  {
   "cell_type": "code",
   "execution_count": 4,
   "metadata": {
    "colab": {
     "base_uri": "https://localhost:8080/"
    },
    "id": "vxS3gfsymg6o",
    "outputId": "a46ba013-f472-4bc6-f143-a9062bdedffd"
   },
   "outputs": [
    {
     "name": "stdout",
     "output_type": "stream",
     "text": [
      "These will all be the same\n",
      "[0, 1, 2, 3, 4]\n",
      "[0, 1, 2, 3, 4]\n",
      "[0, 2, 4, 6, 8]\n",
      "[0, 1, 2, 3, 4]\n",
      "\n",
      "Adding to the list\n",
      "[0, 1, 2, 3, 4, 'Alex']\n",
      "Removing last item\n",
      "[0, 1, 2, 3, 4]\n",
      "Removing the first item\n",
      "[1, 2, 3, 4]\n"
     ]
    }
   ],
   "source": [
    "# lists are one of most popular data types you'll ever use in python\n",
    "# let's generate a list with numbers 0 to 4 (inclusive)\n",
    "\n",
    "print(\"These will all be the same\")\n",
    "\n",
    "myList = [0,1,2,3,4]\n",
    "print(myList)\n",
    "\n",
    "myList = [x for x in range(5)] # this is a list comprehension\n",
    "evenList = [x for x in range(10) if x % 2 == 0]\n",
    "print(myList)\n",
    "print(evenList)\n",
    "\n",
    "myList = list(range(5)) \n",
    "print(myList)\n",
    "print()\n",
    "\n",
    "# lists can have any data types in it \n",
    "\n",
    "print(\"Adding to the list\")\n",
    "\n",
    "myList.append(firstName)\n",
    "print(myList)\n",
    "\n",
    "\n",
    "print(\"Removing last item\")\n",
    "\n",
    "myList.pop()\n",
    "print(myList)\n",
    "\n",
    "print(\"Removing the first item\")\n",
    "myList.pop(0)\n",
    "print(myList)"
   ]
  },
  {
   "cell_type": "code",
   "execution_count": 5,
   "metadata": {
    "colab": {
     "base_uri": "https://localhost:8080/"
    },
    "id": "BkcYQjeotuDI",
    "outputId": "26f66e4f-2a12-4763-8ef2-3e20e1d994b5"
   },
   "outputs": [
    {
     "name": "stdout",
     "output_type": "stream",
     "text": [
      "My height is 170.18 in centimeters\n",
      "My hobbies are programming, reading, video games\n"
     ]
    }
   ],
   "source": [
    "# dictionaries are a special data type that can hold other data types like lists\n",
    "# you can even have them inside lists\n",
    "# typically called a hashmap\n",
    "\n",
    "me = {\n",
    "    \"height\": 170.18,\n",
    "    \"hobbies\": [\"programming\", \"reading\", \"video games\"]\n",
    "}\n",
    "\n",
    "# access dictionaries with its key\n",
    "print(f\"My height is {me['height']} in centimeters\")\n",
    "print(f\"My hobbies are {', '.join(me['hobbies'])}\")"
   ]
  },
  {
   "cell_type": "code",
   "execution_count": 6,
   "metadata": {
    "colab": {
     "base_uri": "https://localhost:8080/"
    },
    "id": "LKsm-XQtvH90",
    "outputId": "ebd7d01a-b553-41b9-b867-8eb998264cc8"
   },
   "outputs": [
    {
     "name": "stdout",
     "output_type": "stream",
     "text": [
      "0 1 2 3 4 5 6 7 8 9 \n",
      "Printing squares\n",
      "1 4 9 16 25 36 49 64 81 100 \n",
      "0\n",
      "2\n",
      "4\n",
      "6\n",
      "8\n",
      "10\n",
      "12\n",
      "14\n",
      "16\n",
      "18\n"
     ]
    }
   ],
   "source": [
    "# loops!\n",
    "\n",
    "\"\"\"\n",
    "for (int i=0; i<10; i++) {\n",
    "  print(i)\n",
    "}\n",
    "\"\"\"\n",
    "\n",
    "# for loops\n",
    "for num in range(10): # from 0 to 10 exclusive\n",
    "  print(num, end=\" \") # making the print not add a newline\n",
    "print()\n",
    "\n",
    "print(\"Printing squares\")\n",
    "for i in range(1, 10 + 1): # from 1 to 10 inclusive\n",
    "  print(i ** 2, end=\" \")\n",
    "print()\n",
    "\n",
    "i = 0\n",
    "\n",
    "# Tab-oriented(4 spaces/ 2 spaces, just needs to be same)\n",
    "while i < 20:\n",
    "  print(i)\n",
    "  i += 2 # increment by 2. There's no i++ in python\n"
   ]
  },
  {
   "cell_type": "code",
   "execution_count": 7,
   "metadata": {
    "colab": {
     "base_uri": "https://localhost:8080/"
    },
    "id": "W6hDfqKnnobM",
    "outputId": "07464cac-ee06-4a52-fec7-5768be649f8d"
   },
   "outputs": [
    {
     "name": "stdout",
     "output_type": "stream",
     "text": [
      "My name is Ryan Kendrick\n",
      "Alex\n",
      "Alex\n",
      "Alex\n",
      "729\n"
     ]
    }
   ],
   "source": [
    "# functions are pretty simple but are dynamic as variables\n",
    "# you don't need to specify the types for the variable passed/returned\n",
    "# in the functions but it's nice to\n",
    "def show(name):\n",
    "  print(name)\n",
    "\n",
    "def displayName(name: str) -> None:\n",
    "  print(f\"My name is {name}\")\n",
    "\n",
    "# you can have default values if not specified\n",
    "def repeatName(name: str, reps: int = 3) -> None:\n",
    "  for n in range(reps):\n",
    "    print(name)\n",
    "\n",
    "def cube(num: int) -> int:\n",
    "  # returns will send a value back so that you can save it in a variable if you \n",
    "  # want\n",
    "  return int(num ** 3) \n",
    "\n",
    "displayName(\"Ryan Kendrick\")\n",
    "repeatName(\"Alex\")\n",
    "print(cube(9))"
   ]
  },
  {
   "cell_type": "code",
   "execution_count": 8,
   "metadata": {
    "colab": {
     "base_uri": "https://localhost:8080/"
    },
    "id": "9h5iJ95htQSc",
    "outputId": "3681eac7-d018-4f67-b18a-38e95d58954d"
   },
   "outputs": [
    {
     "name": "stdout",
     "output_type": "stream",
     "text": [
      "Square root of 4 is 2.0\n"
     ]
    }
   ],
   "source": [
    "# library imports are pretty simple\n",
    "import math\n",
    "from math import sqrt\n",
    "\n",
    "print(f\"Square root of 4 is {sqrt(4)}\")"
   ]
  },
  {
   "cell_type": "markdown",
   "metadata": {
    "id": "Q30lBZaUx1yM"
   },
   "source": [
    "\n",
    "\n",
    "**NumPy** is a library for the Python programming language, adding support for large, multi-dimensional arrays and matrices, along with a large collection of high-level mathematical functions to operate on these arrays.\n",
    "\n",
    "\n"
   ]
  },
  {
   "cell_type": "code",
   "execution_count": 9,
   "metadata": {
    "colab": {
     "base_uri": "https://localhost:8080/"
    },
    "id": "AGF2pLo1mTDM",
    "outputId": "37d4f8a3-d331-4b23-be30-ababe26d147d"
   },
   "outputs": [
    {
     "name": "stdout",
     "output_type": "stream",
     "text": [
      "\n",
      "Here is the truth value of the light players:\n",
      "\n",
      "[False False False False False False False False False False False False\n",
      " False  True False False False False False False False False False False\n",
      " False False False False False False False False False False False False\n",
      " False False False False False False False False False False False False\n",
      " False False False False False False False False False False False False\n",
      " False False False False False False False False False False False False\n",
      " False False False False False False False False False False False False\n",
      " False False False False False  True False False False False False False\n",
      " False False False False False False False False False False False False\n",
      " False False False False False False False False False False False False\n",
      " False False False False False False False False False False False False\n",
      " False False False False False False False False False False False False\n",
      " False False False False False False False False False False False False\n",
      " False False False  True False False False False False False False False\n",
      " False False False False False False False False False False False False\n",
      " False False False False False False False False False False False False\n",
      " False False False False False False False False]\n",
      "\n",
      "\n",
      "Here is how many players have a bmi under 21\n",
      "\n",
      "3\n",
      "\n",
      "The values are:\n",
      "[20.54255679 20.54255679 20.69282047]\n"
     ]
    }
   ],
   "source": [
    "# Here is a NumPy example:\n",
    "import numpy as np\n",
    "\n",
    "height_in = [74, 74, 72, 72, 73, 69, 69, 71, 76, 71, 73, 73, 74, 74, 69, 70, 73, 75, 78, 79,\n",
    "             76, 74, 76, 72, 71, 75, 77, 74, 73, 74, 78, 73, 75, 73, 75, 75, 74, 69, 71, 74,\n",
    "             73, 73, 76, 74, 74, 70, 72, 77, 74, 70, 73, 75, 76, 76, 78, 74, 74, 76, 77, 81,\n",
    "             78, 75, 77, 75, 76, 74, 72, 72, 75, 73, 73, 73, 70, 70, 70, 76, 68, 71, 72, 75,\n",
    "             75, 75, 75, 68, 74, 78, 71, 73, 76, 74, 74, 79, 75, 73, 76, 74, 74, 73, 72, 74,\n",
    "             73, 74, 72, 73, 69, 72, 73, 75, 75, 73, 72, 72, 76, 74, 72, 77, 74, 77, 75, 76,\n",
    "             80, 74, 74, 75, 78, 73, 73, 74, 75, 76, 71, 73, 74, 76, 76, 74, 73, 74, 70, 72,\n",
    "             73, 73, 73, 73, 71, 74, 74, 72, 74, 71, 74, 73, 75, 75, 79, 73, 75, 76, 74, 76,\n",
    "             78, 74, 76, 72, 74, 76, 74, 75, 78, 75, 72, 74, 72, 74, 70, 71, 70, 75, 71, 71,\n",
    "             73, 72, 71, 73, 72, 75, 74, 74, 75, 73, 77, 73, 76, 75, 74, 76, 75, 73, 71, 76]\n",
    "\n",
    "weight_lb = [180, 215, 210, 210, 188, 176, 209, 200, 231, 180, 188, 180, 185, 160, 180, 185, 189, 185, 219, 230,\n",
    "             205, 230, 195, 180, 192, 225, 203, 195, 182, 188, 200, 180, 200, 200, 245, 240, 215, 185, 175, 199,\n",
    "             200, 215, 200, 205, 206, 186, 188, 220, 210, 195, 200, 200, 212, 224, 210, 205, 220, 195, 200, 260,\n",
    "             228, 270, 200, 210, 190, 220, 180, 205, 210, 220, 211, 200, 180, 190, 170, 230, 155, 185, 185, 200,\n",
    "             225, 225, 220, 160, 205, 235, 250, 210, 190, 160, 200, 205, 222, 195, 205, 220, 220, 170, 185, 195,\n",
    "             220, 230, 180, 220, 180, 180, 170, 210, 215, 200, 213, 180, 192, 235, 185, 235, 210, 222, 210, 230,\n",
    "             220, 180, 190, 200, 210, 194, 180, 190, 240, 200, 198, 200, 195, 210, 220, 190, 210, 225, 180, 185,\n",
    "             170, 185, 185, 180, 178, 175, 200, 204, 211, 190, 210, 190, 190, 185, 290, 175, 185, 200, 220, 170,\n",
    "             220, 190, 220, 205, 200, 250, 225, 215, 210, 215, 195, 200, 194, 220, 180, 180, 170, 195, 180, 170,\n",
    "             206, 205, 200, 225, 201, 225, 233, 180, 225, 180, 220, 180, 237, 215, 190, 235, 190, 180, 165, 195]\n",
    "\n",
    "# Calculate the BMI: bmi\n",
    "np_height_m = np.array(height_in) * 0.0254\n",
    "np_weight_kg = np.array(weight_lb) * 0.453592\n",
    "bmi = np_weight_kg / np_height_m ** 2\n",
    "\n",
    "# Create the light array for players with a light bmi\n",
    "light = bmi<21\n",
    "\n",
    "# Print out the boolean array of the light players:\n",
    "print('\\nHere is the truth value of the light players:\\n')\n",
    "print(light)\n",
    "\n",
    "# Print out BMIs of all baseball players whose BMI is below 21\n",
    "print('\\n\\nHere is how many players have a bmi under 21\\n')\n",
    "print(len(bmi[light]))\n",
    "\n",
    "print('\\nThe values are:')\n",
    "print(bmi[light])"
   ]
  },
  {
   "cell_type": "markdown",
   "metadata": {
    "id": "FFdeaoGmmbiP"
   },
   "source": [
    "**Dictionaries** are used to store data values in key:value pairs. A dictionary is a collection which is ordered, changeable and does not allow duplicates."
   ]
  },
  {
   "cell_type": "code",
   "execution_count": 10,
   "metadata": {
    "colab": {
     "base_uri": "https://localhost:8080/"
    },
    "id": "0cuE8-4YwRTk",
    "outputId": "2d2d3c11-f39b-47e0-a698-0f6395f6bf68"
   },
   "outputs": [
    {
     "name": "stdout",
     "output_type": "stream",
     "text": [
      "The capital of Norway is: Oslo\n",
      "\n",
      "Here is a list of all the Countries:\n",
      "{'spain': {'capital': 'Madrid', 'population': 46.77}, 'norway': {'capital': 'Oslo', 'population': 5.084}, 'italy': {'capital': 'rome', 'population': 59.83}}\n"
     ]
    }
   ],
   "source": [
    "\n",
    "# Here is our dictionary:\n",
    "europe = { 'spain': { 'capital':'Madrid', 'population':46.77 },\n",
    "           'norway': { 'capital':'Oslo', 'population':5.084 } }\n",
    "\n",
    "# Let's add Italy:\n",
    "europe['italy'] = {'capital':'rome', 'population':59.83}\n",
    "\n",
    "# The dictionary prints the corresponding values of what you are asking for, all countries have a capital and a population category.\n",
    "print('The capital of Norway is: ' + europe['norway']['capital'])\n",
    "\n",
    "print('\\nHere is a list of all the Countries:')\n",
    "print(europe)\n"
   ]
  },
  {
   "cell_type": "markdown",
   "metadata": {
    "id": "DcQjVAa1YgN6"
   },
   "source": [
    "Dictionaries are a great way to store your data, it is a good start but pandas is much better for numerical tables based on category.\n",
    "\n",
    "We will need pandas to manipulate the data from the csv file and organize our data by category.\n",
    "\n",
    "**Pandas** offers data structures and operations for manipulating numerical tables and time series.\n",
    "\n",
    "Let's take a look at the pandas data structure: "
   ]
  },
  {
   "cell_type": "code",
   "execution_count": 11,
   "metadata": {
    "colab": {
     "base_uri": "https://localhost:8080/"
    },
    "id": "jU7d8OqZZjtF",
    "outputId": "57a1260c-2b83-4db2-9a7b-b2b28d3ca009"
   },
   "outputs": [
    {
     "name": "stdout",
     "output_type": "stream",
     "text": [
      "{'country': ['United States', 'Australia', 'Japan', 'India', 'Russia', 'Morocco', 'Egypt'], 'drives_right': [True, False, False, False, True, True, True], 'cars_per_cap': [809, 731, 588, 18, 200, 70, 45]}\n",
      "\n",
      "         country  drives_right  cars_per_cap\n",
      "0  United States          True           809\n",
      "1      Australia         False           731\n",
      "2          Japan         False           588\n",
      "3          India         False            18\n",
      "4         Russia          True           200\n",
      "5        Morocco          True            70\n",
      "6          Egypt          True            45\n"
     ]
    }
   ],
   "source": [
    "import pandas as pd\n",
    "\n",
    "# We will make a dataframe that is easy to use by using the pandas library.\n",
    "\n",
    "names = ['United States', 'Australia', 'Japan', 'India', 'Russia', 'Morocco', 'Egypt']\n",
    "\n",
    "dr =  [True, False, False, False, True, True, True]\n",
    "\n",
    "cpc = [809, 731, 588, 18, 200, 70, 45]\n",
    "\n",
    "cars_dict = { 'country':names, 'drives_right':dr, 'cars_per_cap':cpc }\n",
    "\n",
    "print(cars_dict)\n",
    "print()\n",
    "\n",
    "cars = pd.DataFrame(cars_dict)\n",
    "\n",
    "print(cars)\n"
   ]
  },
  {
   "cell_type": "code",
   "execution_count": 12,
   "metadata": {
    "colab": {
     "base_uri": "https://localhost:8080/"
    },
    "id": "RtFsWOx2aeSD",
    "outputId": "fea66ea5-4f9c-44db-acb0-881355159bd7"
   },
   "outputs": [
    {
     "name": "stdout",
     "output_type": "stream",
     "text": [
      "           country  drives_right  cars_per_cap\n",
      "US   United States          True           809\n",
      "AUS      Australia         False           731\n",
      "JPN          Japan         False           588\n",
      "IN           India         False            18\n",
      "RU          Russia          True           200\n",
      "MOR        Morocco          True            70\n",
      "EG           Egypt          True            45\n"
     ]
    }
   ],
   "source": [
    "\n",
    "# Definition of row_labels\n",
    "row_labels = ['US', 'AUS', 'JPN', 'IN', 'RU', 'MOR', 'EG']\n",
    "\n",
    "# Specify row labels of cars\n",
    "cars.index = row_labels\n",
    "\n",
    "# Print cars again\n",
    "print(cars)\n"
   ]
  },
  {
   "cell_type": "markdown",
   "metadata": {
    "id": "1cr2ZG5mV_ai"
   },
   "source": [
    "Now let's talk about importing files.\n",
    "\n",
    "We will start with a **CSV** file. This stands for..."
   ]
  },
  {
   "cell_type": "code",
   "execution_count": 13,
   "metadata": {
    "id": "85w6Td_HWEuC"
   },
   "outputs": [],
   "source": [
    "\n",
    "# Here is how you import data. This CSV is saved in the google colab files in the sample_data file.\n",
    "games_file = 'sample_data/Video_Games.csv'\n",
    "\n",
    "# We are using the pandas library to read this dataframe.\n",
    "games_df = pd.read_csv(games_file, na_values='NaN')\n",
    "\n",
    "# It is important to use na_values and assign it to a variable such as NaN so your data is uniform and complete.\n",
    "# Whenever there is data missing from a dataframe, it is your job to either fill it (maybe with a median value) or remove the data."
   ]
  },
  {
   "cell_type": "markdown",
   "metadata": {
    "id": "LCGnvGdfDaUC"
   },
   "source": [
    "Now we will do a little exploratory data analysis to see what our data looks like."
   ]
  },
  {
   "cell_type": "code",
   "execution_count": 14,
   "metadata": {
    "colab": {
     "base_uri": "https://localhost:8080/"
    },
    "id": "DNQR1x87353l",
    "outputId": "de652fd8-0e7a-4b0a-8835-2a02755cf222"
   },
   "outputs": [
    {
     "name": "stdout",
     "output_type": "stream",
     "text": [
      "Here is the head of the data:\n",
      "\n",
      "                       Name Platform  Year_of_Release         Genre Publisher  \\\n",
      "0                Wii Sports      Wii           2006.0        Sports  Nintendo   \n",
      "1         Super Mario Bros.      NES           1985.0      Platform  Nintendo   \n",
      "2            Mario Kart Wii      Wii           2008.0        Racing  Nintendo   \n",
      "3         Wii Sports Resort      Wii           2009.0        Sports  Nintendo   \n",
      "4  Pokemon Red/Pokemon Blue       GB           1996.0  Role-Playing  Nintendo   \n",
      "\n",
      "   NA_Sales  EU_Sales  JP_Sales  Other_Sales  Global_Sales  Critic_Score  \\\n",
      "0     41.36     28.96      3.77         8.45         82.53          76.0   \n",
      "1     29.08      3.58      6.81         0.77         40.24           NaN   \n",
      "2     15.68     12.76      3.79         3.29         35.52          82.0   \n",
      "3     15.61     10.93      3.28         2.95         32.77          80.0   \n",
      "4     11.27      8.89     10.22         1.00         31.37           NaN   \n",
      "\n",
      "   Critic_Count User_Score  User_Count Developer Rating  \n",
      "0          51.0          8       322.0  Nintendo      E  \n",
      "1           NaN        NaN         NaN       NaN    NaN  \n",
      "2          73.0        8.3       709.0  Nintendo      E  \n",
      "3          73.0          8       192.0  Nintendo      E  \n",
      "4           NaN        NaN         NaN       NaN    NaN  \n",
      "\n",
      "\n",
      "Here is the first 3 entries:\n",
      "                Name Platform  Year_of_Release     Genre Publisher  NA_Sales  \\\n",
      "0         Wii Sports      Wii           2006.0    Sports  Nintendo     41.36   \n",
      "1  Super Mario Bros.      NES           1985.0  Platform  Nintendo     29.08   \n",
      "2     Mario Kart Wii      Wii           2008.0    Racing  Nintendo     15.68   \n",
      "\n",
      "   EU_Sales  JP_Sales  Other_Sales  Global_Sales  Critic_Score  Critic_Count  \\\n",
      "0     28.96      3.77         8.45         82.53          76.0          51.0   \n",
      "1      3.58      6.81         0.77         40.24           NaN           NaN   \n",
      "2     12.76      3.79         3.29         35.52          82.0          73.0   \n",
      "\n",
      "  User_Score  User_Count Developer Rating  \n",
      "0          8       322.0  Nintendo      E  \n",
      "1        NaN         NaN       NaN    NaN  \n",
      "2        8.3       709.0  Nintendo      E  \n",
      "\n",
      "\n",
      "Here is the Shape of the data frame:\n",
      "(16719, 16)\n",
      "\n",
      "\n",
      "Here is the index of the columns:\n",
      "Index(['Name', 'Platform', 'Year_of_Release', 'Genre', 'Publisher', 'NA_Sales',\n",
      "       'EU_Sales', 'JP_Sales', 'Other_Sales', 'Global_Sales', 'Critic_Score',\n",
      "       'Critic_Count', 'User_Score', 'User_Count', 'Developer', 'Rating'],\n",
      "      dtype='object')\n"
     ]
    }
   ],
   "source": [
    "\n",
    "# Print the head of the data which is the first 5 values:\n",
    "print('Here is the head of the data:\\n')\n",
    "print(games_df.head())\n",
    "\n",
    "# Print out first three entries of d\n",
    "print('\\n\\nHere is the first 3 entries:')\n",
    "print(games_df[:3])\n",
    "\n",
    "print('\\n\\nHere is the Shape of the data frame:')\n",
    "print(games_df.shape)\n",
    "\n",
    "print('\\n\\nHere is the index of the columns:')\n",
    "print(games_df.columns)\n"
   ]
  },
  {
   "cell_type": "code",
   "execution_count": 15,
   "metadata": {
    "colab": {
     "base_uri": "https://localhost:8080/",
     "height": 295
    },
    "id": "koz3XGlGyRsn",
    "outputId": "239f6605-4f3f-4b70-ce2f-0e7a7891594d"
   },
   "outputs": [
    {
     "data": {
      "image/png": "[encoded data removed]",
      "text/plain": [
       "<Figure size 432x288 with 1 Axes>"
      ]
     },
     "metadata": {
      "needs_background": "light"
     },
     "output_type": "display_data"
    }
   ],
   "source": [
    "import matplotlib as mpl\n",
    "import matplotlib.pyplot as plt\n",
    "\n",
    "# Plot 'Year_of_Release' variable in a histogram\n",
    "pd.DataFrame.hist(games_df[['Year_of_Release']])\n",
    "\n",
    "# Add labels to the graph.\n",
    "plt.xlabel('Year released')\n",
    "\n",
    "plt.ylabel('Number of top games')\n",
    "\n",
    "# Output the histogram\n",
    "plt.show()"
   ]
  },
  {
   "cell_type": "markdown",
   "metadata": {
    "id": "ts_wHisTeZVt"
   },
   "source": [
    "Now we will compare two separate generes, Sports and Shooter:"
   ]
  },
  {
   "cell_type": "code",
   "execution_count": 16,
   "metadata": {
    "colab": {
     "base_uri": "https://localhost:8080/",
     "height": 573
    },
    "id": "IeLSgYNXeXpb",
    "outputId": "0eb109d9-e769-4e8e-b78f-17efaccbd5d5"
   },
   "outputs": [
    {
     "name": "stdout",
     "output_type": "stream",
     "text": [
      "                 Name Platform  Year_of_Release   Genre        Publisher  \\\n",
      "0          Wii Sports      Wii           2006.0  Sports         Nintendo   \n",
      "3   Wii Sports Resort      Wii           2009.0  Sports         Nintendo   \n",
      "13            Wii Fit      Wii           2007.0  Sports         Nintendo   \n",
      "15       Wii Fit Plus      Wii           2009.0  Sports         Nintendo   \n",
      "77            FIFA 16      PS4           2015.0  Sports  Electronic Arts   \n",
      "\n",
      "    NA_Sales  EU_Sales  JP_Sales  Other_Sales  Global_Sales  Critic_Score  \\\n",
      "0      41.36     28.96      3.77         8.45         82.53          76.0   \n",
      "3      15.61     10.93      3.28         2.95         32.77          80.0   \n",
      "13      8.92      8.03      3.60         2.15         22.70          80.0   \n",
      "15      9.01      8.49      2.53         1.77         21.79          80.0   \n",
      "77      1.12      6.12      0.06         1.28          8.57          82.0   \n",
      "\n",
      "    Critic_Count User_Score  User_Count  Developer Rating  \n",
      "0           51.0          8       322.0   Nintendo      E  \n",
      "3           73.0          8       192.0   Nintendo      E  \n",
      "13          63.0        7.7       146.0   Nintendo      E  \n",
      "15          33.0        7.4        52.0   Nintendo      E  \n",
      "77          42.0        4.3       896.0  EA Sports      E  \n",
      "                              Name Platform  Year_of_Release    Genre  \\\n",
      "9                        Duck Hunt      NES           1984.0  Shooter   \n",
      "29  Call of Duty: Modern Warfare 3     X360           2011.0  Shooter   \n",
      "31       Call of Duty: Black Ops 3      PS4           2015.0  Shooter   \n",
      "32         Call of Duty: Black Ops     X360           2010.0  Shooter   \n",
      "34      Call of Duty: Black Ops II      PS3           2012.0  Shooter   \n",
      "\n",
      "     Publisher  NA_Sales  EU_Sales  JP_Sales  Other_Sales  Global_Sales  \\\n",
      "9     Nintendo     26.93      0.63      0.28         0.47         28.31   \n",
      "29  Activision      9.04      4.24      0.13         1.32         14.73   \n",
      "31  Activision      6.03      5.86      0.36         2.38         14.63   \n",
      "32  Activision      9.70      3.68      0.11         1.13         14.61   \n",
      "34  Activision      4.99      5.73      0.65         2.42         13.79   \n",
      "\n",
      "    Critic_Score  Critic_Count User_Score  User_Count  \\\n",
      "9            NaN           NaN        NaN         NaN   \n",
      "29          88.0          81.0        3.4      8713.0   \n",
      "31           NaN           NaN        NaN         NaN   \n",
      "32          87.0          89.0        6.3      1454.0   \n",
      "34          83.0          21.0        5.3       922.0   \n",
      "\n",
      "                            Developer Rating  \n",
      "9                                 NaN    NaN  \n",
      "29  Infinity Ward, Sledgehammer Games      M  \n",
      "31                                NaN    NaN  \n",
      "32                           Treyarch      M  \n",
      "34                           Treyarch      M  \n"
     ]
    },
    {
     "data": {
      "image/png": "[encoded data removed]",
      "text/plain": [
       "<Figure size 432x288 with 1 Axes>"
      ]
     },
     "metadata": {
      "needs_background": "light"
     },
     "output_type": "display_data"
    }
   ],
   "source": [
    "# Here we are using boolean operators to create new dataframes.\n",
    "# These are separated by the Genre column and the True value if the name corresponds correctly.\n",
    "sports_df = games_df[games_df['Genre'] == 'Sports']\n",
    "shooter_df = games_df[games_df['Genre'] == 'Shooter']\n",
    "\n",
    "\n",
    "fig, ax = plt.subplots()\n",
    "\n",
    "ax.hist(sports_df['Year_of_Release'], color = 'r')\n",
    "\n",
    "ax.hist(shooter_df['Year_of_Release'], color = 'b')\n",
    "\n",
    "# Add labels to the graph.\n",
    "ax.set_xlabel( \"Year released\")\n",
    "\n",
    "ax.set_ylabel( \"Number of top games\")\n",
    "\n",
    "# Print the head of the top 5 from each category.\n",
    "print(sports_df.head())\n",
    "print(shooter_df.head())\n",
    "\n",
    "# Output the Histogram.\n",
    "plt.show()"
   ]
  },
  {
   "cell_type": "code",
   "execution_count": 17,
   "metadata": {
    "id": "Lh1l_bnWlGqY"
   },
   "outputs": [
    {
     "data": {
      "text/plain": [
       "269"
      ]
     },
     "execution_count": 17,
     "metadata": {},
     "output_type": "execute_result"
    }
   ],
   "source": [
    "np.sum(games_df['Year_of_Release'].isnull())"
   ]
  },
  {
   "cell_type": "code",
   "execution_count": 21,
   "metadata": {},
   "outputs": [
    {
     "data": {
      "text/plain": [
       "0"
      ]
     },
     "execution_count": 21,
     "metadata": {},
     "output_type": "execute_result"
    }
   ],
   "source": [
    "games_df['Year_of_Release'] = games_df['Year_of_Release'].fillna(np.median(games_df['Year_of_Release'].median()))\n",
    "np.sum(games_df['Year_of_Release'].isnull())"
   ]
  },
  {
   "cell_type": "code",
   "execution_count": null,
   "metadata": {},
   "outputs": [],
   "source": []
  }
 ],
 "metadata": {
  "colab": {
   "collapsed_sections": [],
   "include_colab_link": true,
   "name": "Copy of Intro to Python",
   "provenance": []
  },
  "kernelspec": {
   "display_name": "Python 3 (ipykernel)",
   "language": "python",
   "name": "python3"
  },
  "language_info": {
   "codemirror_mode": {
    "name": "ipython",
    "version": 3
   },
   "file_extension": ".py",
   "mimetype": "text/x-python",
   "name": "python",
   "nbconvert_exporter": "python",
   "pygments_lexer": "ipython3",
   "version": "3.8.10"
  }
 },
 "nbformat": 4,
 "nbformat_minor": 1
}
