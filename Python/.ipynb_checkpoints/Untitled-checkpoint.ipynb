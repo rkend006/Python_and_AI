{
 "cells": [
  {
   "cell_type": "code",
   "execution_count": 2,
   "id": "06be41e6",
   "metadata": {},
   "outputs": [],
   "source": [
    "\n",
    "# Python3 program to Sort square of the numbers of the array\n",
    "# function to sort array after doing squares of elements\n",
    "def sortSquares(arr, n):\n",
    "     \n",
    "    # first dived array into part negative and positive\n",
    "    K = 0\n",
    "    for K in range(n):\n",
    "        if (arr[K] >= 0 ):\n",
    "            break\n",
    "     \n",
    "    # Now do the same process that we learn in merge sort to merge to two sorted array\n",
    "    # here both two half are sorted and we traverse:\n",
    "    \n",
    "    # first half in reverse meaner because\n",
    "    # first half contain negative element\n",
    "    i = K - 1 # Initial index of first half\n",
    "    j = K # Initial index of second half\n",
    "    ind = 0 # Initial index of temp array\n",
    "     \n",
    "    # store sorted array\n",
    "    temp = [0]*n\n",
    "    while (i >= 0 and j < n):\n",
    "         \n",
    "        if (arr[i] * arr[i] < arr[j] * arr[j]):\n",
    "            temp[ind] = arr[i] * arr[i]\n",
    "            i -= 1\n",
    "         \n",
    "        else:\n",
    "             \n",
    "            temp[ind] = arr[j] * arr[j]\n",
    "            j += 1\n",
    "             \n",
    "        ind += 1\n",
    "     \n",
    "    # At this point, one of the halves are gone, so we just copy the remainder.\n",
    "    ''' Copy the remaining elements of first half '''\n",
    "    while (i >= 0):\n",
    "         \n",
    "        temp[ind] = arr[i] * arr[i]\n",
    "        i -= 1\n",
    "        ind += 1\n",
    "         \n",
    "    ''' Copy the remaining elements of second half '''\n",
    "    while (j < n):\n",
    "        temp[ind] = arr[j] * arr[j]\n",
    "        j += 1\n",
    "        ind += 1\n",
    "         \n",
    "    # copy 'temp' array into original array\n",
    "    for i in range(n):\n",
    "        arr[i] = temp[i]\n"
   ]
  },
  {
   "cell_type": "code",
   "execution_count": 6,
   "id": "32adb405",
   "metadata": {},
   "outputs": [
    {
     "name": "stdout",
     "output_type": "stream",
     "text": [
      "Before sort: \n",
      "[-6, -3, -1, 2, 4, 5]\n",
      "\n",
      "After Sort: \n",
      "[1, 4, 9, 16, 25, 36]\n"
     ]
    }
   ],
   "source": [
    "# ############################# Here is the main calls to the different functions #########################################\n",
    "arr = [-6, -3, -1, 2, 4, 5 ]\n",
    "n = len(arr)\n",
    " \n",
    "print(\"Before sort: \")\n",
    "print(arr)\n",
    "     \n",
    "sortSquares(arr, n)\n",
    "\n",
    "print(\"\\nAfter Sort: \")\n",
    "print(arr)"
   ]
  },
  {
   "cell_type": "code",
   "execution_count": null,
   "id": "35f65989",
   "metadata": {},
   "outputs": [],
   "source": []
  }
 ],
 "metadata": {
  "kernelspec": {
   "display_name": "Python 3 (ipykernel)",
   "language": "python",
   "name": "python3"
  },
  "language_info": {
   "codemirror_mode": {
    "name": "ipython",
    "version": 3
   },
   "file_extension": ".py",
   "mimetype": "text/x-python",
   "name": "python",
   "nbconvert_exporter": "python",
   "pygments_lexer": "ipython3",
   "version": "3.9.7"
  }
 },
 "nbformat": 4,
 "nbformat_minor": 5
}
